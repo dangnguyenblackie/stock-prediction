{
 "cells": [
  {
   "cell_type": "markdown",
   "metadata": {},
   "source": [
    "# DATA ENGINEERING: Stock Prediction"
   ]
  },
  {
   "cell_type": "markdown",
   "metadata": {},
   "source": [
    "* HCMUT-VNU\n",
    "* Semester: 231\n",
    "* Group 17"
   ]
  },
  {
   "cell_type": "markdown",
   "metadata": {},
   "source": [
    "# 0. Description"
   ]
  },
  {
   "cell_type": "markdown",
   "metadata": {},
   "source": [
    "# 1. Data fields"
   ]
  },
  {
   "cell_type": "markdown",
   "metadata": {},
   "source": [
    "There are some data fields that VN30 provided. They are described as below:"
   ]
  },
  {
   "cell_type": "markdown",
   "metadata": {},
   "source": [
    "+ Ngày: Gồm ngày tháng năm cụ thể.\n",
    "\n",
    "+ Lần cuối: Hay còn gọi là \"Giá đóng\"(close price), có nghĩa là giá cổ phiếu của phiên giao dịch cuối của ngày đó.\n",
    "\n",
    "+ Mở: Hay còn gọi là \"Giá mở\"(open price), có nghĩa là giá cổ phiếu của phiên giao dịch đầu của ngày đó.\n",
    "\n",
    "+ Cao: Hay còn gọi là \"Giá trần\", có nghĩa là giá cổ phiếu cao nhất trong ngày.\n",
    "\n",
    "+ Thấp: Hay còn gọi là \"Giá sàn\", có nghĩa là giá cổ phiếu thấp nhất trong ngày.\n",
    "\n",
    "+ KL: Số lượng giao dịch trong ngày của cổ phiếu.\n",
    "\n",
    "+ % Thay đổi: Phần trăm thay đổi của giá sàn của ngày hôm sau so với ngày hiện tại.\n"
   ]
  },
  {
   "cell_type": "markdown",
   "metadata": {},
   "source": [
    "Also, there are some fields that we can derive:"
   ]
  },
  {
   "cell_type": "markdown",
   "metadata": {},
   "source": [
    "## RSI \n",
    "- Đây là \"Chỉ số sức mạnh tương đối\"(Relevant Strength Index) là giá trị phản ánh tình trạng quá \"mua\" hoặc quá \"bán\" trên thị trường. Có công thức như sau:\n",
    "\n",
    "$$RSI=100-[\\dfrac{100}{1+\\dfrac{\\text{Mức tăng trung bình}}{\\text{Tổn thất trung bình}}}]$$\n",
    "\n",
    "- Giá trị của RSI được biểu diễn trong khoảng từ 0 đến 100. Thông thường:\n",
    "\n",
    "    + Nếu RSI > 70, thì cổ phiếu đang bị mua quá mức dẫn đến việc xu hướng tăng của giá trị cổ phiếu có khả năng bị giảm và xu hướng giảm có khả năng tăng.\n",
    "\n",
    "    + Nếu RSI < 30, thì cổ phiếu đang bị bán quá mức dẫn đến giá trị cổ phiếu gần chạm đáy và chuẩn bị tăng.\n",
    "    \n",
    "    + Nếu RSI giữa khoảng (30,70) được coi là trung tính. Ví dụ với mức RSI=50 thì xem là không có xu hướng.\n",
    "\n",
    "- Bên cạnh việc thể hiện tình trạng quá bán hoặc quá mua, nhà đầu tư cũng có thể sử dụng phân kỳ RSI để dự đoán xu hướng đảo chiều. Sự phân kỳ xảy ra khi giá chứng khoán di chuyển theo hướng ngược lại so với các chỉ báo kỹ thuật. Điều này cảnh báo xu hướng giá hiện tại có thể đang suy yếu và nguy cơ dẫn đến sự thay đổi hướng của giá. Trong đó có hai loại là phân kỳ âm và phân kỳ dương:\n",
    "\n",
    "    + Phân kỳ dương: RSI tăng tạo đáy cao trong khi giá giảm tạo đáy thấp, cảnh báo đà tăng mạnh bất chấp xu hướng giá giảm.\n",
    "\n",
    "    + Phân kỳ âm: RSI giảm và tạo đỉnh thấp trong khi giá tài sản tăng tạo đỉnh cao hơn, cảnh báo giá có thể giảm mạnh.\n"
   ]
  },
  {
   "cell_type": "markdown",
   "metadata": {},
   "source": [
    "## EMA"
   ]
  },
  {
   "cell_type": "markdown",
   "metadata": {},
   "source": [
    "- Đây là \"Đường trung bình động luỹ thừa\"(Exponent Moving Average). Nó được dùng để phản ánh sự biến động giá được tính theo cấp số nhân, qua đó giúp nhà đầu tư xác định được sự biến động giá một cách chuẩn xác hơn và giảm thiểu được tình trạng nhiễu giá so với đường trung bình động thông thường. \n",
    "\n",
    "- Có công thức:\n",
    "\n",
    "$$\\text{EMA}(t)=P(t) \\times K + \\text{EMA}(t-1) \\times (1-K)$$\n",
    "\n",
    "- Với:\n",
    "\n",
    "    + $P(t)$: giá đóng của cổ phiếu ở ngày t.\n",
    " \n",
    "    + $K=\\dfrac{2}{1+N}$: hệ số làm trơn, được tính bằng công thức đính kèm với N là chu kì (ví dụ như 5 ngày, 10 ngày,...).\n",
    " \n",
    "    + EMA(t): giá trị EMA tại ngày t.\n",
    "\n",
    "- Sự di chuyển của đường EMA phản ánh xu hướng dịch chuyển của giá, thông qua đó nhà đầu tư nắm bắt tình hình xu hướng giá ngay thời điểm hiện tại.\n",
    "\n",
    "- Đường EMA dốc lên thể hiện giá đang đi lên, thị trường trong xu hướng tăng. Ngược lại, đường EMA dốc xuống thể hiện giá đang đi xuống, thị trường trong xu hướng giảm. Đường EMA nằm ngang đồng nghĩa với giá cũng đi ngang, thị trường trong trạng thái sideway.\n",
    "\n",
    "- EMA được theo 3 khung thời gian gồm có:\n",
    "\n",
    "    + EMAF: EMA nhanh, thường tương ứng với các chu kỳ nhỏ.\n",
    "    \n",
    "    + EMAM: EMA trung bình, thường tương ứng với các chu kỳ trung bình.\n",
    "    + EMAS: EMA chậm, thường tương ứng với chu kỳ lớn.\n",
    "\n",
    "- Dựa vào sự cắt nhau của các đường EMAF, EMAM, EMAS và đường giá, ta sẽ xác định được xu hướng tăng hoặc giảm của cổ phiếu đó."
   ]
  },
  {
   "cell_type": "markdown",
   "metadata": {},
   "source": [
    "# 2. Data processing"
   ]
  },
  {
   "cell_type": "markdown",
   "metadata": {},
   "source": [
    "### Import Libraries"
   ]
  },
  {
   "cell_type": "code",
   "execution_count": 1,
   "metadata": {},
   "outputs": [],
   "source": [
    "# !pip3 install numpy matplotlib yfinance\n",
    "# !pip3 install -U git+https://github.com/twopirllc/pandas-ta.git@development"
   ]
  },
  {
   "cell_type": "code",
   "execution_count": 2,
   "metadata": {},
   "outputs": [],
   "source": [
    "import numpy as np\n",
    "import matplotlib.pyplot as plt \n",
    "import pandas as pd \n",
    "import pandas_ta as ta\n",
    "import yfinance as yf"
   ]
  },
  {
   "cell_type": "markdown",
   "metadata": {},
   "source": [
    "### Import VN30 data"
   ]
  },
  {
   "cell_type": "code",
   "execution_count": 3,
   "metadata": {},
   "outputs": [
    {
     "data": {
      "text/html": [
       "<div>\n",
       "<style scoped>\n",
       "    .dataframe tbody tr th:only-of-type {\n",
       "        vertical-align: middle;\n",
       "    }\n",
       "\n",
       "    .dataframe tbody tr th {\n",
       "        vertical-align: top;\n",
       "    }\n",
       "\n",
       "    .dataframe thead th {\n",
       "        text-align: right;\n",
       "    }\n",
       "</style>\n",
       "<table border=\"1\" class=\"dataframe\">\n",
       "  <thead>\n",
       "    <tr style=\"text-align: right;\">\n",
       "      <th></th>\n",
       "      <th>Date</th>\n",
       "      <th>Close</th>\n",
       "      <th>Open</th>\n",
       "      <th>High</th>\n",
       "      <th>Low</th>\n",
       "      <th>Vol</th>\n",
       "      <th>Percentage Change</th>\n",
       "    </tr>\n",
       "  </thead>\n",
       "  <tbody>\n",
       "    <tr>\n",
       "      <th>0</th>\n",
       "      <td>03/10/2023</td>\n",
       "      <td>1,130.89</td>\n",
       "      <td>1,156.86</td>\n",
       "      <td>1,158.38</td>\n",
       "      <td>1,128.54</td>\n",
       "      <td>260.26K</td>\n",
       "      <td>-3.11%</td>\n",
       "    </tr>\n",
       "    <tr>\n",
       "      <th>1</th>\n",
       "      <td>02/10/2023</td>\n",
       "      <td>1,167.13</td>\n",
       "      <td>1,166.64</td>\n",
       "      <td>1,173.06</td>\n",
       "      <td>1,159.16</td>\n",
       "      <td>119.87K</td>\n",
       "      <td>0.07%</td>\n",
       "    </tr>\n",
       "    <tr>\n",
       "      <th>2</th>\n",
       "      <td>29/09/2023</td>\n",
       "      <td>1,166.26</td>\n",
       "      <td>1,169.26</td>\n",
       "      <td>1,176.77</td>\n",
       "      <td>1,165.15</td>\n",
       "      <td>144.90K</td>\n",
       "      <td>0.16%</td>\n",
       "    </tr>\n",
       "    <tr>\n",
       "      <th>3</th>\n",
       "      <td>28/09/2023</td>\n",
       "      <td>1,164.45</td>\n",
       "      <td>1,167.96</td>\n",
       "      <td>1,168.09</td>\n",
       "      <td>1,144.47</td>\n",
       "      <td>193.65K</td>\n",
       "      <td>-0.36%</td>\n",
       "    </tr>\n",
       "    <tr>\n",
       "      <th>4</th>\n",
       "      <td>27/09/2023</td>\n",
       "      <td>1,168.60</td>\n",
       "      <td>1,154.54</td>\n",
       "      <td>1,168.60</td>\n",
       "      <td>1,141.09</td>\n",
       "      <td>190.47K</td>\n",
       "      <td>1.32%</td>\n",
       "    </tr>\n",
       "  </tbody>\n",
       "</table>\n",
       "</div>"
      ],
      "text/plain": [
       "         Date     Close      Open      High       Low      Vol   \n",
       "0  03/10/2023  1,130.89  1,156.86  1,158.38  1,128.54  260.26K  \\\n",
       "1  02/10/2023  1,167.13  1,166.64  1,173.06  1,159.16  119.87K   \n",
       "2  29/09/2023  1,166.26  1,169.26  1,176.77  1,165.15  144.90K   \n",
       "3  28/09/2023  1,164.45  1,167.96  1,168.09  1,144.47  193.65K   \n",
       "4  27/09/2023  1,168.60  1,154.54  1,168.60  1,141.09  190.47K   \n",
       "\n",
       "  Percentage Change  \n",
       "0            -3.11%  \n",
       "1             0.07%  \n",
       "2             0.16%  \n",
       "3            -0.36%  \n",
       "4             1.32%  "
      ]
     },
     "execution_count": 3,
     "metadata": {},
     "output_type": "execute_result"
    }
   ],
   "source": [
    "data = pd.read_csv('VN30_031023-031013.csv') # there are no null values in this CSV file\n",
    "data.head(5)"
   ]
  },
  {
   "cell_type": "markdown",
   "metadata": {},
   "source": [
    "### As we can see, our VN30 data is being reversed"
   ]
  },
  {
   "cell_type": "code",
   "execution_count": 4,
   "metadata": {},
   "outputs": [
    {
     "data": {
      "text/html": [
       "<div>\n",
       "<style scoped>\n",
       "    .dataframe tbody tr th:only-of-type {\n",
       "        vertical-align: middle;\n",
       "    }\n",
       "\n",
       "    .dataframe tbody tr th {\n",
       "        vertical-align: top;\n",
       "    }\n",
       "\n",
       "    .dataframe thead th {\n",
       "        text-align: right;\n",
       "    }\n",
       "</style>\n",
       "<table border=\"1\" class=\"dataframe\">\n",
       "  <thead>\n",
       "    <tr style=\"text-align: right;\">\n",
       "      <th></th>\n",
       "      <th>Date</th>\n",
       "      <th>Close</th>\n",
       "      <th>Open</th>\n",
       "      <th>High</th>\n",
       "      <th>Low</th>\n",
       "      <th>Vol</th>\n",
       "      <th>Percentage Change</th>\n",
       "    </tr>\n",
       "  </thead>\n",
       "  <tbody>\n",
       "    <tr>\n",
       "      <th>0</th>\n",
       "      <td>03/10/2013</td>\n",
       "      <td>549.58</td>\n",
       "      <td>552.41</td>\n",
       "      <td>552.66</td>\n",
       "      <td>548.44</td>\n",
       "      <td>19.12K</td>\n",
       "      <td>-0.57%</td>\n",
       "    </tr>\n",
       "    <tr>\n",
       "      <th>1</th>\n",
       "      <td>04/10/2013</td>\n",
       "      <td>552.07</td>\n",
       "      <td>549.74</td>\n",
       "      <td>552.27</td>\n",
       "      <td>548.63</td>\n",
       "      <td>17.85K</td>\n",
       "      <td>0.45%</td>\n",
       "    </tr>\n",
       "    <tr>\n",
       "      <th>2</th>\n",
       "      <td>07/10/2013</td>\n",
       "      <td>557.54</td>\n",
       "      <td>552.55</td>\n",
       "      <td>557.95</td>\n",
       "      <td>552.30</td>\n",
       "      <td>22.80K</td>\n",
       "      <td>0.99%</td>\n",
       "    </tr>\n",
       "    <tr>\n",
       "      <th>3</th>\n",
       "      <td>08/10/2013</td>\n",
       "      <td>558.55</td>\n",
       "      <td>557.83</td>\n",
       "      <td>560.36</td>\n",
       "      <td>555.02</td>\n",
       "      <td>29.15K</td>\n",
       "      <td>0.18%</td>\n",
       "    </tr>\n",
       "    <tr>\n",
       "      <th>4</th>\n",
       "      <td>09/10/2013</td>\n",
       "      <td>556.72</td>\n",
       "      <td>558.24</td>\n",
       "      <td>558.99</td>\n",
       "      <td>555.25</td>\n",
       "      <td>17.70K</td>\n",
       "      <td>-0.33%</td>\n",
       "    </tr>\n",
       "    <tr>\n",
       "      <th>...</th>\n",
       "      <td>...</td>\n",
       "      <td>...</td>\n",
       "      <td>...</td>\n",
       "      <td>...</td>\n",
       "      <td>...</td>\n",
       "      <td>...</td>\n",
       "      <td>...</td>\n",
       "    </tr>\n",
       "    <tr>\n",
       "      <th>2491</th>\n",
       "      <td>27/09/2023</td>\n",
       "      <td>1,168.60</td>\n",
       "      <td>1,154.54</td>\n",
       "      <td>1,168.60</td>\n",
       "      <td>1,141.09</td>\n",
       "      <td>190.47K</td>\n",
       "      <td>1.32%</td>\n",
       "    </tr>\n",
       "    <tr>\n",
       "      <th>2492</th>\n",
       "      <td>28/09/2023</td>\n",
       "      <td>1,164.45</td>\n",
       "      <td>1,167.96</td>\n",
       "      <td>1,168.09</td>\n",
       "      <td>1,144.47</td>\n",
       "      <td>193.65K</td>\n",
       "      <td>-0.36%</td>\n",
       "    </tr>\n",
       "    <tr>\n",
       "      <th>2493</th>\n",
       "      <td>29/09/2023</td>\n",
       "      <td>1,166.26</td>\n",
       "      <td>1,169.26</td>\n",
       "      <td>1,176.77</td>\n",
       "      <td>1,165.15</td>\n",
       "      <td>144.90K</td>\n",
       "      <td>0.16%</td>\n",
       "    </tr>\n",
       "    <tr>\n",
       "      <th>2494</th>\n",
       "      <td>02/10/2023</td>\n",
       "      <td>1,167.13</td>\n",
       "      <td>1,166.64</td>\n",
       "      <td>1,173.06</td>\n",
       "      <td>1,159.16</td>\n",
       "      <td>119.87K</td>\n",
       "      <td>0.07%</td>\n",
       "    </tr>\n",
       "    <tr>\n",
       "      <th>2495</th>\n",
       "      <td>03/10/2023</td>\n",
       "      <td>1,130.89</td>\n",
       "      <td>1,156.86</td>\n",
       "      <td>1,158.38</td>\n",
       "      <td>1,128.54</td>\n",
       "      <td>260.26K</td>\n",
       "      <td>-3.11%</td>\n",
       "    </tr>\n",
       "  </tbody>\n",
       "</table>\n",
       "<p>2496 rows × 7 columns</p>\n",
       "</div>"
      ],
      "text/plain": [
       "            Date     Close      Open      High       Low      Vol   \n",
       "0     03/10/2013    549.58    552.41    552.66    548.44   19.12K  \\\n",
       "1     04/10/2013    552.07    549.74    552.27    548.63   17.85K   \n",
       "2     07/10/2013    557.54    552.55    557.95    552.30   22.80K   \n",
       "3     08/10/2013    558.55    557.83    560.36    555.02   29.15K   \n",
       "4     09/10/2013    556.72    558.24    558.99    555.25   17.70K   \n",
       "...          ...       ...       ...       ...       ...      ...   \n",
       "2491  27/09/2023  1,168.60  1,154.54  1,168.60  1,141.09  190.47K   \n",
       "2492  28/09/2023  1,164.45  1,167.96  1,168.09  1,144.47  193.65K   \n",
       "2493  29/09/2023  1,166.26  1,169.26  1,176.77  1,165.15  144.90K   \n",
       "2494  02/10/2023  1,167.13  1,166.64  1,173.06  1,159.16  119.87K   \n",
       "2495  03/10/2023  1,130.89  1,156.86  1,158.38  1,128.54  260.26K   \n",
       "\n",
       "     Percentage Change  \n",
       "0               -0.57%  \n",
       "1                0.45%  \n",
       "2                0.99%  \n",
       "3                0.18%  \n",
       "4               -0.33%  \n",
       "...                ...  \n",
       "2491             1.32%  \n",
       "2492            -0.36%  \n",
       "2493             0.16%  \n",
       "2494             0.07%  \n",
       "2495            -3.11%  \n",
       "\n",
       "[2496 rows x 7 columns]"
      ]
     },
     "execution_count": 4,
     "metadata": {},
     "output_type": "execute_result"
    }
   ],
   "source": [
    "data = data.iloc[::-1]\n",
    "data.reset_index(drop=True, inplace=True)\n",
    "data"
   ]
  },
  {
   "cell_type": "markdown",
   "metadata": {},
   "source": [
    "### Get data types:"
   ]
  },
  {
   "cell_type": "code",
   "execution_count": 5,
   "metadata": {},
   "outputs": [
    {
     "data": {
      "text/plain": [
       "Date                 object\n",
       "Close                object\n",
       "Open                 object\n",
       "High                 object\n",
       "Low                  object\n",
       "Vol                  object\n",
       "Percentage Change    object\n",
       "dtype: object"
      ]
     },
     "execution_count": 5,
     "metadata": {},
     "output_type": "execute_result"
    }
   ],
   "source": [
    "data.dtypes"
   ]
  },
  {
   "cell_type": "markdown",
   "metadata": {},
   "source": [
    "As we can see, **Open**, **Close**, **High**, **Low** price got the same string format, but how about **Vol** ?"
   ]
  },
  {
   "cell_type": "code",
   "execution_count": 6,
   "metadata": {},
   "outputs": [
    {
     "data": {
      "text/plain": [
       "Vol\n",
       "K    2491\n",
       "M       5\n",
       "Name: count, dtype: int64"
      ]
     },
     "execution_count": 6,
     "metadata": {},
     "output_type": "execute_result"
    }
   ],
   "source": [
    "data['Vol'].str[-1].value_counts()"
   ]
  },
  {
   "cell_type": "markdown",
   "metadata": {},
   "source": [
    "There are 2 different values in **Vol**."
   ]
  },
  {
   "cell_type": "markdown",
   "metadata": {},
   "source": [
    "Convert data types:"
   ]
  },
  {
   "cell_type": "code",
   "execution_count": 7,
   "metadata": {},
   "outputs": [],
   "source": [
    "data['Date'] = pd.to_datetime(data['Date'], format='%d/%m/%Y')\n",
    "\n",
    "\n",
    "data['Close'] = pd.to_numeric(data['Close'].str.replace(',',''))\n",
    "data['Open'] = pd.to_numeric(data['Open'].str.replace(',',''))\n",
    "data['High'] = pd.to_numeric(data['High'].str.replace(',',''))\n",
    "data['Low'] = pd.to_numeric(data['Low'].str.replace(',',''))\n",
    "\n",
    "# data['Vol'] = data['Vol'].str.replace('K', '')\n",
    "# data['Vol'] = (pd.to_numeric(data['Vol'])*1000)\n",
    "\n",
    "data['Percentage Change'] = data['Percentage Change'].str.replace('%', '')\n",
    "data['Percentage Change'] = pd.to_numeric(data['Percentage Change']) # if null then NaN\n",
    "\n",
    "# data.head()"
   ]
  },
  {
   "cell_type": "code",
   "execution_count": 8,
   "metadata": {},
   "outputs": [],
   "source": [
    "# for i in range(len(data['Vol'])):\n",
    "#     if data['Vol'].loc[i][-1] == 'K':\n",
    "#         data['Vol'].loc[i] = data['Vol'].loc[i].replace('K','')\n",
    "#         # print(data['Vol'].loc[i] )\n",
    "#         data['Vol'].loc[i] = int(float(data['Vol'].loc[i])*1000)\n",
    "#     else: \n",
    "#         data['Vol'].loc[i] = data['Vol'].loc[i].replace('M','')\n",
    "#         data['Vol'].loc[i] = int(float(data['Vol'].loc[i])*1000000)"
   ]
  },
  {
   "cell_type": "code",
   "execution_count": 9,
   "metadata": {},
   "outputs": [],
   "source": [
    "# data['Vol'] = data['Vol'].astype(int)\n",
    "# data.head(5)"
   ]
  },
  {
   "cell_type": "code",
   "execution_count": 10,
   "metadata": {},
   "outputs": [
    {
     "data": {
      "text/plain": [
       "Date                 datetime64[ns]\n",
       "Close                       float64\n",
       "Open                        float64\n",
       "High                        float64\n",
       "Low                         float64\n",
       "Vol                          object\n",
       "Percentage Change           float64\n",
       "dtype: object"
      ]
     },
     "execution_count": 10,
     "metadata": {},
     "output_type": "execute_result"
    }
   ],
   "source": [
    "data.dtypes"
   ]
  },
  {
   "cell_type": "markdown",
   "metadata": {},
   "source": [
    "### Number of record of each year from 03/10/2013 to 203/10/2023:"
   ]
  },
  {
   "cell_type": "code",
   "execution_count": 11,
   "metadata": {},
   "outputs": [
    {
     "name": "stdout",
     "output_type": "stream",
     "text": [
      "2013 448\n",
      "2014 1729\n",
      "2015 1736\n",
      "2016 1757\n",
      "2017 1750\n",
      "2018 1743\n",
      "2019 1750\n",
      "2020 1764\n",
      "2021 1750\n",
      "2022 1743\n",
      "2023 1302\n"
     ]
    }
   ],
   "source": [
    "for i in range (2013,2024):\n",
    "    print(i,data[data['Date'].dt.year==i].size)"
   ]
  },
  {
   "cell_type": "code",
   "execution_count": 12,
   "metadata": {},
   "outputs": [
    {
     "data": {
      "text/html": [
       "<div>\n",
       "<style scoped>\n",
       "    .dataframe tbody tr th:only-of-type {\n",
       "        vertical-align: middle;\n",
       "    }\n",
       "\n",
       "    .dataframe tbody tr th {\n",
       "        vertical-align: top;\n",
       "    }\n",
       "\n",
       "    .dataframe thead th {\n",
       "        text-align: right;\n",
       "    }\n",
       "</style>\n",
       "<table border=\"1\" class=\"dataframe\">\n",
       "  <thead>\n",
       "    <tr style=\"text-align: right;\">\n",
       "      <th></th>\n",
       "      <th>Date</th>\n",
       "      <th>Close</th>\n",
       "      <th>Open</th>\n",
       "      <th>High</th>\n",
       "      <th>Low</th>\n",
       "      <th>Vol</th>\n",
       "      <th>Percentage Change</th>\n",
       "    </tr>\n",
       "  </thead>\n",
       "  <tbody>\n",
       "    <tr>\n",
       "      <th>0</th>\n",
       "      <td>2013-10-03</td>\n",
       "      <td>549.58</td>\n",
       "      <td>552.41</td>\n",
       "      <td>552.66</td>\n",
       "      <td>548.44</td>\n",
       "      <td>19.12K</td>\n",
       "      <td>-0.57</td>\n",
       "    </tr>\n",
       "    <tr>\n",
       "      <th>1</th>\n",
       "      <td>2013-10-04</td>\n",
       "      <td>552.07</td>\n",
       "      <td>549.74</td>\n",
       "      <td>552.27</td>\n",
       "      <td>548.63</td>\n",
       "      <td>17.85K</td>\n",
       "      <td>0.45</td>\n",
       "    </tr>\n",
       "    <tr>\n",
       "      <th>2</th>\n",
       "      <td>2013-10-07</td>\n",
       "      <td>557.54</td>\n",
       "      <td>552.55</td>\n",
       "      <td>557.95</td>\n",
       "      <td>552.30</td>\n",
       "      <td>22.80K</td>\n",
       "      <td>0.99</td>\n",
       "    </tr>\n",
       "    <tr>\n",
       "      <th>3</th>\n",
       "      <td>2013-10-08</td>\n",
       "      <td>558.55</td>\n",
       "      <td>557.83</td>\n",
       "      <td>560.36</td>\n",
       "      <td>555.02</td>\n",
       "      <td>29.15K</td>\n",
       "      <td>0.18</td>\n",
       "    </tr>\n",
       "    <tr>\n",
       "      <th>4</th>\n",
       "      <td>2013-10-09</td>\n",
       "      <td>556.72</td>\n",
       "      <td>558.24</td>\n",
       "      <td>558.99</td>\n",
       "      <td>555.25</td>\n",
       "      <td>17.70K</td>\n",
       "      <td>-0.33</td>\n",
       "    </tr>\n",
       "  </tbody>\n",
       "</table>\n",
       "</div>"
      ],
      "text/plain": [
       "        Date   Close    Open    High     Low     Vol  Percentage Change\n",
       "0 2013-10-03  549.58  552.41  552.66  548.44  19.12K              -0.57\n",
       "1 2013-10-04  552.07  549.74  552.27  548.63  17.85K               0.45\n",
       "2 2013-10-07  557.54  552.55  557.95  552.30  22.80K               0.99\n",
       "3 2013-10-08  558.55  557.83  560.36  555.02  29.15K               0.18\n",
       "4 2013-10-09  556.72  558.24  558.99  555.25  17.70K              -0.33"
      ]
     },
     "execution_count": 12,
     "metadata": {},
     "output_type": "execute_result"
    }
   ],
   "source": [
    "data.head()"
   ]
  },
  {
   "cell_type": "code",
   "execution_count": 13,
   "metadata": {},
   "outputs": [
    {
     "data": {
      "text/plain": [
       "<matplotlib.legend.Legend at 0x11aa67d10>"
      ]
     },
     "execution_count": 13,
     "metadata": {},
     "output_type": "execute_result"
    },
    {
     "data": {
      "image/png": "[encoded data removed]",
      "text/plain": [
       "<Figure size 2400x1200 with 1 Axes>"
      ]
     },
     "metadata": {},
     "output_type": "display_data"
    }
   ],
   "source": [
    "plt.figure(figsize=(16, 8), dpi=150) \n",
    "\n",
    "data['Close'].plot(x=data['Date'],label='close')\n",
    "# data['High'].plot(x=data['Date'],label='high')\n",
    "# data['Low'].plot(x=data['Date'],label='low')\n",
    "\n",
    "# data['Open'].plot(label='open')\n",
    "plt.xlabel('Date')\n",
    "plt.ylabel('Price')\n",
    "plt.legend() "
   ]
  },
  {
   "cell_type": "markdown",
   "metadata": {},
   "source": [
    "### Add indicators"
   ]
  },
  {
   "cell_type": "code",
   "execution_count": 14,
   "metadata": {},
   "outputs": [],
   "source": [
    "# data = yf.download(tickers = '^RUI', start = '2012-03-11',end = '2022-07-10')\n",
    "# data.dtypes"
   ]
  },
  {
   "cell_type": "code",
   "execution_count": 15,
   "metadata": {},
   "outputs": [],
   "source": [
    "data['RSI'] = ta.rsi(data.Close, length=15)\n",
    "data['EMAF'] = ta.ema(data.Close, length=20)\n",
    "data['EMAM'] = ta.ema(data.Close, length=100)\n",
    "data['EMAS'] = ta.ema(data.Close, length=150)\n",
    "\n",
    "'''\n",
    "Target: Boolean value, 0 if the next closing price smaller than the current closing price.\n",
    "'''\n",
    "data['Target'] = (data['Close'] - data.Open).shift(-1) \n",
    "\n",
    "data['TargetClass'] = [1 if data.Target[i]>0 else 0 for i in range(len(data))]\n",
    "\n",
    "data['TargetNextClose'] = data['Close'].shift(-1)\n",
    "data.head()\n",
    "\n",
    "data.dropna(inplace=True)\n",
    "data.reset_index(inplace = True)\n",
    "data.drop(['Vol', 'Date', \"Percentage Change\", \"index\"], axis=1, inplace=True)"
   ]
  },
  {
   "cell_type": "code",
   "execution_count": 16,
   "metadata": {},
   "outputs": [
    {
     "data": {
      "text/html": [
       "<div>\n",
       "<style scoped>\n",
       "    .dataframe tbody tr th:only-of-type {\n",
       "        vertical-align: middle;\n",
       "    }\n",
       "\n",
       "    .dataframe tbody tr th {\n",
       "        vertical-align: top;\n",
       "    }\n",
       "\n",
       "    .dataframe thead th {\n",
       "        text-align: right;\n",
       "    }\n",
       "</style>\n",
       "<table border=\"1\" class=\"dataframe\">\n",
       "  <thead>\n",
       "    <tr style=\"text-align: right;\">\n",
       "      <th></th>\n",
       "      <th>Close</th>\n",
       "      <th>Open</th>\n",
       "      <th>High</th>\n",
       "      <th>Low</th>\n",
       "      <th>RSI</th>\n",
       "      <th>EMAF</th>\n",
       "      <th>EMAM</th>\n",
       "      <th>EMAS</th>\n",
       "      <th>Target</th>\n",
       "      <th>TargetClass</th>\n",
       "      <th>TargetNextClose</th>\n",
       "    </tr>\n",
       "  </thead>\n",
       "  <tbody>\n",
       "    <tr>\n",
       "      <th>0</th>\n",
       "      <td>581.93</td>\n",
       "      <td>573.63</td>\n",
       "      <td>582.69</td>\n",
       "      <td>569.91</td>\n",
       "      <td>38.511591</td>\n",
       "      <td>604.586251</td>\n",
       "      <td>615.209193</td>\n",
       "      <td>602.308267</td>\n",
       "      <td>6.77</td>\n",
       "      <td>1</td>\n",
       "      <td>589.31</td>\n",
       "    </tr>\n",
       "    <tr>\n",
       "      <th>1</th>\n",
       "      <td>589.31</td>\n",
       "      <td>582.54</td>\n",
       "      <td>590.50</td>\n",
       "      <td>577.93</td>\n",
       "      <td>41.530649</td>\n",
       "      <td>603.131370</td>\n",
       "      <td>614.696338</td>\n",
       "      <td>602.136104</td>\n",
       "      <td>3.92</td>\n",
       "      <td>1</td>\n",
       "      <td>590.27</td>\n",
       "    </tr>\n",
       "    <tr>\n",
       "      <th>2</th>\n",
       "      <td>590.27</td>\n",
       "      <td>586.35</td>\n",
       "      <td>590.61</td>\n",
       "      <td>581.61</td>\n",
       "      <td>41.928044</td>\n",
       "      <td>601.906478</td>\n",
       "      <td>614.212648</td>\n",
       "      <td>601.978937</td>\n",
       "      <td>6.13</td>\n",
       "      <td>1</td>\n",
       "      <td>596.82</td>\n",
       "    </tr>\n",
       "    <tr>\n",
       "      <th>3</th>\n",
       "      <td>596.82</td>\n",
       "      <td>590.69</td>\n",
       "      <td>597.78</td>\n",
       "      <td>585.10</td>\n",
       "      <td>44.676793</td>\n",
       "      <td>601.422051</td>\n",
       "      <td>613.868239</td>\n",
       "      <td>601.910607</td>\n",
       "      <td>-2.52</td>\n",
       "      <td>0</td>\n",
       "      <td>592.75</td>\n",
       "    </tr>\n",
       "    <tr>\n",
       "      <th>4</th>\n",
       "      <td>592.75</td>\n",
       "      <td>595.27</td>\n",
       "      <td>600.15</td>\n",
       "      <td>592.75</td>\n",
       "      <td>43.311919</td>\n",
       "      <td>600.596142</td>\n",
       "      <td>613.450056</td>\n",
       "      <td>601.789274</td>\n",
       "      <td>0.67</td>\n",
       "      <td>1</td>\n",
       "      <td>594.35</td>\n",
       "    </tr>\n",
       "    <tr>\n",
       "      <th>5</th>\n",
       "      <td>594.35</td>\n",
       "      <td>593.68</td>\n",
       "      <td>597.43</td>\n",
       "      <td>591.77</td>\n",
       "      <td>44.032095</td>\n",
       "      <td>600.001271</td>\n",
       "      <td>613.071837</td>\n",
       "      <td>601.690741</td>\n",
       "      <td>2.20</td>\n",
       "      <td>1</td>\n",
       "      <td>596.24</td>\n",
       "    </tr>\n",
       "    <tr>\n",
       "      <th>6</th>\n",
       "      <td>596.24</td>\n",
       "      <td>594.04</td>\n",
       "      <td>597.80</td>\n",
       "      <td>588.05</td>\n",
       "      <td>44.917747</td>\n",
       "      <td>599.643055</td>\n",
       "      <td>612.738533</td>\n",
       "      <td>601.618546</td>\n",
       "      <td>9.86</td>\n",
       "      <td>1</td>\n",
       "      <td>605.87</td>\n",
       "    </tr>\n",
       "    <tr>\n",
       "      <th>7</th>\n",
       "      <td>605.87</td>\n",
       "      <td>596.01</td>\n",
       "      <td>606.02</td>\n",
       "      <td>595.38</td>\n",
       "      <td>49.297794</td>\n",
       "      <td>600.236097</td>\n",
       "      <td>612.602523</td>\n",
       "      <td>601.674856</td>\n",
       "      <td>6.63</td>\n",
       "      <td>1</td>\n",
       "      <td>614.88</td>\n",
       "    </tr>\n",
       "    <tr>\n",
       "      <th>8</th>\n",
       "      <td>614.88</td>\n",
       "      <td>608.25</td>\n",
       "      <td>615.46</td>\n",
       "      <td>608.25</td>\n",
       "      <td>53.041031</td>\n",
       "      <td>601.630755</td>\n",
       "      <td>612.647621</td>\n",
       "      <td>601.849759</td>\n",
       "      <td>0.80</td>\n",
       "      <td>1</td>\n",
       "      <td>615.01</td>\n",
       "    </tr>\n",
       "    <tr>\n",
       "      <th>9</th>\n",
       "      <td>615.01</td>\n",
       "      <td>614.21</td>\n",
       "      <td>622.35</td>\n",
       "      <td>611.75</td>\n",
       "      <td>53.094564</td>\n",
       "      <td>602.904968</td>\n",
       "      <td>612.694401</td>\n",
       "      <td>602.024067</td>\n",
       "      <td>3.68</td>\n",
       "      <td>1</td>\n",
       "      <td>618.00</td>\n",
       "    </tr>\n",
       "    <tr>\n",
       "      <th>10</th>\n",
       "      <td>618.00</td>\n",
       "      <td>614.32</td>\n",
       "      <td>619.25</td>\n",
       "      <td>612.78</td>\n",
       "      <td>54.376271</td>\n",
       "      <td>604.342590</td>\n",
       "      <td>612.799462</td>\n",
       "      <td>602.235669</td>\n",
       "      <td>-3.75</td>\n",
       "      <td>0</td>\n",
       "      <td>610.99</td>\n",
       "    </tr>\n",
       "    <tr>\n",
       "      <th>11</th>\n",
       "      <td>610.99</td>\n",
       "      <td>614.74</td>\n",
       "      <td>617.68</td>\n",
       "      <td>607.91</td>\n",
       "      <td>50.883632</td>\n",
       "      <td>604.975677</td>\n",
       "      <td>612.763632</td>\n",
       "      <td>602.351620</td>\n",
       "      <td>1.38</td>\n",
       "      <td>1</td>\n",
       "      <td>612.49</td>\n",
       "    </tr>\n",
       "    <tr>\n",
       "      <th>12</th>\n",
       "      <td>612.49</td>\n",
       "      <td>611.11</td>\n",
       "      <td>614.82</td>\n",
       "      <td>608.28</td>\n",
       "      <td>51.596417</td>\n",
       "      <td>605.691327</td>\n",
       "      <td>612.758213</td>\n",
       "      <td>602.485903</td>\n",
       "      <td>-9.14</td>\n",
       "      <td>0</td>\n",
       "      <td>603.83</td>\n",
       "    </tr>\n",
       "    <tr>\n",
       "      <th>13</th>\n",
       "      <td>603.83</td>\n",
       "      <td>612.97</td>\n",
       "      <td>613.38</td>\n",
       "      <td>601.06</td>\n",
       "      <td>47.346237</td>\n",
       "      <td>605.514058</td>\n",
       "      <td>612.581417</td>\n",
       "      <td>602.503706</td>\n",
       "      <td>-0.04</td>\n",
       "      <td>0</td>\n",
       "      <td>601.60</td>\n",
       "    </tr>\n",
       "    <tr>\n",
       "      <th>14</th>\n",
       "      <td>601.60</td>\n",
       "      <td>601.64</td>\n",
       "      <td>604.76</td>\n",
       "      <td>597.70</td>\n",
       "      <td>46.294120</td>\n",
       "      <td>605.141290</td>\n",
       "      <td>612.363963</td>\n",
       "      <td>602.491736</td>\n",
       "      <td>4.76</td>\n",
       "      <td>1</td>\n",
       "      <td>608.48</td>\n",
       "    </tr>\n",
       "    <tr>\n",
       "      <th>15</th>\n",
       "      <td>608.48</td>\n",
       "      <td>603.72</td>\n",
       "      <td>608.48</td>\n",
       "      <td>602.19</td>\n",
       "      <td>49.969167</td>\n",
       "      <td>605.459263</td>\n",
       "      <td>612.287053</td>\n",
       "      <td>602.571051</td>\n",
       "      <td>1.72</td>\n",
       "      <td>1</td>\n",
       "      <td>610.92</td>\n",
       "    </tr>\n",
       "    <tr>\n",
       "      <th>16</th>\n",
       "      <td>610.92</td>\n",
       "      <td>609.20</td>\n",
       "      <td>615.47</td>\n",
       "      <td>606.30</td>\n",
       "      <td>51.237097</td>\n",
       "      <td>605.979333</td>\n",
       "      <td>612.259982</td>\n",
       "      <td>602.681633</td>\n",
       "      <td>-1.38</td>\n",
       "      <td>0</td>\n",
       "      <td>608.59</td>\n",
       "    </tr>\n",
       "    <tr>\n",
       "      <th>17</th>\n",
       "      <td>608.59</td>\n",
       "      <td>609.97</td>\n",
       "      <td>612.27</td>\n",
       "      <td>608.59</td>\n",
       "      <td>49.942144</td>\n",
       "      <td>606.227968</td>\n",
       "      <td>612.187310</td>\n",
       "      <td>602.759890</td>\n",
       "      <td>6.16</td>\n",
       "      <td>1</td>\n",
       "      <td>615.52</td>\n",
       "    </tr>\n",
       "    <tr>\n",
       "      <th>18</th>\n",
       "      <td>615.52</td>\n",
       "      <td>609.36</td>\n",
       "      <td>615.52</td>\n",
       "      <td>609.20</td>\n",
       "      <td>53.673284</td>\n",
       "      <td>607.112923</td>\n",
       "      <td>612.253303</td>\n",
       "      <td>602.928898</td>\n",
       "      <td>0.12</td>\n",
       "      <td>1</td>\n",
       "      <td>616.11</td>\n",
       "    </tr>\n",
       "    <tr>\n",
       "      <th>19</th>\n",
       "      <td>616.11</td>\n",
       "      <td>615.99</td>\n",
       "      <td>617.66</td>\n",
       "      <td>612.09</td>\n",
       "      <td>53.986136</td>\n",
       "      <td>607.969788</td>\n",
       "      <td>612.329674</td>\n",
       "      <td>603.103482</td>\n",
       "      <td>1.49</td>\n",
       "      <td>1</td>\n",
       "      <td>617.73</td>\n",
       "    </tr>\n",
       "  </tbody>\n",
       "</table>\n",
       "</div>"
      ],
      "text/plain": [
       "     Close    Open    High     Low        RSI        EMAF        EMAM   \n",
       "0   581.93  573.63  582.69  569.91  38.511591  604.586251  615.209193  \\\n",
       "1   589.31  582.54  590.50  577.93  41.530649  603.131370  614.696338   \n",
       "2   590.27  586.35  590.61  581.61  41.928044  601.906478  614.212648   \n",
       "3   596.82  590.69  597.78  585.10  44.676793  601.422051  613.868239   \n",
       "4   592.75  595.27  600.15  592.75  43.311919  600.596142  613.450056   \n",
       "5   594.35  593.68  597.43  591.77  44.032095  600.001271  613.071837   \n",
       "6   596.24  594.04  597.80  588.05  44.917747  599.643055  612.738533   \n",
       "7   605.87  596.01  606.02  595.38  49.297794  600.236097  612.602523   \n",
       "8   614.88  608.25  615.46  608.25  53.041031  601.630755  612.647621   \n",
       "9   615.01  614.21  622.35  611.75  53.094564  602.904968  612.694401   \n",
       "10  618.00  614.32  619.25  612.78  54.376271  604.342590  612.799462   \n",
       "11  610.99  614.74  617.68  607.91  50.883632  604.975677  612.763632   \n",
       "12  612.49  611.11  614.82  608.28  51.596417  605.691327  612.758213   \n",
       "13  603.83  612.97  613.38  601.06  47.346237  605.514058  612.581417   \n",
       "14  601.60  601.64  604.76  597.70  46.294120  605.141290  612.363963   \n",
       "15  608.48  603.72  608.48  602.19  49.969167  605.459263  612.287053   \n",
       "16  610.92  609.20  615.47  606.30  51.237097  605.979333  612.259982   \n",
       "17  608.59  609.97  612.27  608.59  49.942144  606.227968  612.187310   \n",
       "18  615.52  609.36  615.52  609.20  53.673284  607.112923  612.253303   \n",
       "19  616.11  615.99  617.66  612.09  53.986136  607.969788  612.329674   \n",
       "\n",
       "          EMAS  Target  TargetClass  TargetNextClose  \n",
       "0   602.308267    6.77            1           589.31  \n",
       "1   602.136104    3.92            1           590.27  \n",
       "2   601.978937    6.13            1           596.82  \n",
       "3   601.910607   -2.52            0           592.75  \n",
       "4   601.789274    0.67            1           594.35  \n",
       "5   601.690741    2.20            1           596.24  \n",
       "6   601.618546    9.86            1           605.87  \n",
       "7   601.674856    6.63            1           614.88  \n",
       "8   601.849759    0.80            1           615.01  \n",
       "9   602.024067    3.68            1           618.00  \n",
       "10  602.235669   -3.75            0           610.99  \n",
       "11  602.351620    1.38            1           612.49  \n",
       "12  602.485903   -9.14            0           603.83  \n",
       "13  602.503706   -0.04            0           601.60  \n",
       "14  602.491736    4.76            1           608.48  \n",
       "15  602.571051    1.72            1           610.92  \n",
       "16  602.681633   -1.38            0           608.59  \n",
       "17  602.759890    6.16            1           615.52  \n",
       "18  602.928898    0.12            1           616.11  \n",
       "19  603.103482    1.49            1           617.73  "
      ]
     },
     "execution_count": 16,
     "metadata": {},
     "output_type": "execute_result"
    }
   ],
   "source": [
    "data_set = data.iloc[:, 0:11]\n",
    "pd.set_option('display.max_columns', None)\n",
    "\n",
    "data_set.head(20)\n",
    "#print(data_set.shape)\n",
    "#print(data.shape)\n",
    "#print(type(data_set))"
   ]
  },
  {
   "cell_type": "markdown",
   "metadata": {},
   "source": [
    "### Scale data by Scikit MinMaxScaler"
   ]
  },
  {
   "cell_type": "code",
   "execution_count": 17,
   "metadata": {},
   "outputs": [],
   "source": [
    "# !pip3 install scikit-learn"
   ]
  },
  {
   "cell_type": "code",
   "execution_count": 18,
   "metadata": {},
   "outputs": [],
   "source": [
    "from sklearn.preprocessing import MinMaxScaler"
   ]
  },
  {
   "cell_type": "code",
   "execution_count": 19,
   "metadata": {},
   "outputs": [],
   "source": [
    "scaler = MinMaxScaler(feature_range=(0,1))\n",
    "data_set = scaler.fit_transform(data)"
   ]
  },
  {
   "cell_type": "code",
   "execution_count": 20,
   "metadata": {},
   "outputs": [
    {
     "name": "stdout",
     "output_type": "stream",
     "text": [
      "[[0.04197576 0.03119264 0.03856979 ... 0.58307661 1.         0.04911358]\n",
      " [0.04911358 0.03979984 0.04604633 ... 0.56356541 1.         0.05004207]\n",
      " [0.05004207 0.04348036 0.04615164 ... 0.57869515 1.         0.05637712]\n",
      " ...\n",
      " [0.60537947 0.60532468 0.59897568 ... 0.51619087 0.         0.60713008]\n",
      " [0.60713008 0.6065805  0.60728509 ... 0.54008352 1.         0.60797153]\n",
      " [0.60797153 0.60404954 0.60373349 ... 0.3589375  0.         0.5729208 ]]\n"
     ]
    }
   ],
   "source": [
    "print(data_set)"
   ]
  },
  {
   "cell_type": "markdown",
   "metadata": {},
   "source": [
    "### Create Data for training and testing"
   ]
  },
  {
   "cell_type": "markdown",
   "metadata": {},
   "source": [
    "* X: Input set\n",
    "* Y: Output set"
   ]
  },
  {
   "cell_type": "code",
   "execution_count": 21,
   "metadata": {},
   "outputs": [
    {
     "name": "stdout",
     "output_type": "stream",
     "text": [
      "0: [array([0.04197576, 0.04911358, 0.05004207, 0.05637712, 0.05244069,\n",
      "       0.05398818, 0.05581616, 0.06513013, 0.07384446, 0.07397019])]\n",
      "1: [array([0.03119264, 0.03979984, 0.04348036, 0.04767287, 0.05209722,\n",
      "       0.05056126, 0.05090902, 0.05281207, 0.0646361 , 0.07039355])]\n"
     ]
    }
   ],
   "source": [
    "X = []\n",
    "# print(data_set[0].size) # => 11\n",
    "backcandles = 10\n",
    "# print(data_set.shape[0]) # => 2346\n",
    "\n",
    "# get all columns except \"Target\",\t\"TargetClass\",\t\"TargetNextClose\"\n",
    "for i in range(8):\n",
    "    X.append([])\n",
    "    for j in range(backcandles, data_set.shape[0]):\n",
    "        X[i].append(data_set[j-backcandles:j,i]) # get each \"backcandles\" element from each column.\n",
    "\n",
    "print(\"0:\",X[0][0:1]) # first candle set of Close Price\n",
    "print(\"1:\",X[1][0:1]) # first candle set of Open Price\n"
   ]
  },
  {
   "cell_type": "code",
   "execution_count": 22,
   "metadata": {},
   "outputs": [],
   "source": [
    "X = np.moveaxis(X,[0],[2]) # Transposition"
   ]
  },
  {
   "cell_type": "code",
   "execution_count": 23,
   "metadata": {},
   "outputs": [
    {
     "data": {
      "text/plain": [
       "array([[0.04197576, 0.03119264, 0.03856979, 0.03704133, 0.3407446 ,\n",
       "        0.04483376, 0.03819386, 0.02013632],\n",
       "       [0.04911358, 0.03979984, 0.04604633, 0.04478159, 0.37861858,\n",
       "        0.04333934, 0.03764111, 0.01994611],\n",
       "       [0.05004207, 0.04348036, 0.04615164, 0.04833324, 0.38360389,\n",
       "        0.04208117, 0.03711979, 0.01977246]])"
      ]
     },
     "execution_count": 23,
     "metadata": {},
     "output_type": "execute_result"
    }
   ],
   "source": [
    "X[0][:3]"
   ]
  },
  {
   "cell_type": "code",
   "execution_count": 24,
   "metadata": {},
   "outputs": [],
   "source": [
    "X = np.array(X)\n",
    "y = np.reshape(np.array(data_set[backcandles:,-3]), (len(np.array(data_set[backcandles:,-3])),1))# LSTM got output from \"backcandle\"\n",
    "# 1 col, with len(X)-backcandles rows"
   ]
  },
  {
   "cell_type": "code",
   "execution_count": 25,
   "metadata": {},
   "outputs": [
    {
     "name": "stdout",
     "output_type": "stream",
     "text": [
      "Shape (2336, 1)\n",
      "[[0.51105634]\n",
      " [0.54617649]\n",
      " [0.47415623]\n",
      " ...\n",
      " [0.51619087]\n",
      " [0.54008352]\n",
      " [0.3589375 ]]\n"
     ]
    }
   ],
   "source": [
    "print(\"Shape\",y.shape)\n",
    "print(y)"
   ]
  },
  {
   "cell_type": "markdown",
   "metadata": {},
   "source": [
    "### Split data"
   ]
  },
  {
   "cell_type": "code",
   "execution_count": 26,
   "metadata": {},
   "outputs": [
    {
     "name": "stdout",
     "output_type": "stream",
     "text": [
      "Split lim: 1868\n",
      "Xtrain shape (1868, 10, 8)\n",
      "Xtest shape (468, 10, 8)\n",
      "ytrain (1868, 1)\n",
      "ytest (468, 1)\n",
      "ytrain:\n",
      " [[0.51105634]\n",
      " [0.54617649]\n",
      " [0.47415623]\n",
      " ...\n",
      " [0.62559047]\n",
      " [0.49921271]\n",
      " [0.4690217 ]]\n"
     ]
    }
   ],
   "source": [
    "splitlimit = int(len(X)*0.8)\n",
    "print(\"Split lim:\",splitlimit)\n",
    "X_train, X_test = X[:splitlimit], X[splitlimit:]\n",
    "y_train, y_test = y[:splitlimit], y[splitlimit:]\n",
    "print(\"Xtrain shape\",X_train.shape)\n",
    "print(\"Xtest shape\",X_test.shape)\n",
    "print(\"ytrain\",y_train.shape)\n",
    "print(\"ytest\",y_test.shape)\n",
    "print(\"ytrain:\\n\",y_train)"
   ]
  },
  {
   "cell_type": "markdown",
   "metadata": {},
   "source": [
    "# 3. LSTM Model"
   ]
  },
  {
   "cell_type": "markdown",
   "metadata": {},
   "source": [
    "### Import Libraries"
   ]
  },
  {
   "cell_type": "code",
   "execution_count": 27,
   "metadata": {},
   "outputs": [],
   "source": [
    "# !pip3 install keras tensorflow"
   ]
  },
  {
   "cell_type": "code",
   "execution_count": 28,
   "metadata": {},
   "outputs": [
    {
     "name": "stderr",
     "output_type": "stream",
     "text": [
      "2023-11-04 21:17:01.648508: I tensorflow/core/platform/cpu_feature_guard.cc:182] This TensorFlow binary is optimized to use available CPU instructions in performance-critical operations.\n",
      "To enable the following instructions: AVX2 FMA, in other operations, rebuild TensorFlow with the appropriate compiler flags.\n"
     ]
    }
   ],
   "source": [
    "from keras.models import Sequential\n",
    "from keras.layers import LSTM\n",
    "from keras.layers import Dropout\n",
    "from keras.layers import Dense\n",
    "from keras.layers import TimeDistributed\n",
    "\n",
    "import tensorflow as tf\n",
    "import keras\n",
    "from keras import optimizers\n",
    "from keras.callbacks import History\n",
    "from keras.models import Model\n",
    "from keras.layers import Dense, Dropout, LSTM, Input, Activation, concatenate\n",
    "import numpy as np"
   ]
  },
  {
   "cell_type": "markdown",
   "metadata": {},
   "source": [
    "### Layers"
   ]
  },
  {
   "cell_type": "code",
   "execution_count": 29,
   "metadata": {},
   "outputs": [
    {
     "name": "stdout",
     "output_type": "stream",
     "text": [
      "Epoch 1/30\n",
      "113/113 [==============================] - 5s 15ms/step - loss: 0.0203 - val_loss: 0.0163\n",
      "Epoch 2/30\n",
      "113/113 [==============================] - 1s 6ms/step - loss: 0.0051 - val_loss: 0.0140\n",
      "Epoch 3/30\n",
      "113/113 [==============================] - 1s 7ms/step - loss: 0.0046 - val_loss: 0.0157\n",
      "Epoch 4/30\n",
      "113/113 [==============================] - 1s 6ms/step - loss: 0.0043 - val_loss: 0.0127\n",
      "Epoch 5/30\n",
      "113/113 [==============================] - 1s 7ms/step - loss: 0.0044 - val_loss: 0.0125\n",
      "Epoch 6/30\n",
      "113/113 [==============================] - 1s 7ms/step - loss: 0.0042 - val_loss: 0.0132\n",
      "Epoch 7/30\n",
      "113/113 [==============================] - 1s 7ms/step - loss: 0.0043 - val_loss: 0.0133\n",
      "Epoch 8/30\n",
      "113/113 [==============================] - 1s 10ms/step - loss: 0.0042 - val_loss: 0.0121\n",
      "Epoch 9/30\n",
      "113/113 [==============================] - 1s 10ms/step - loss: 0.0042 - val_loss: 0.0121\n",
      "Epoch 10/30\n",
      "113/113 [==============================] - 1s 7ms/step - loss: 0.0043 - val_loss: 0.0125\n",
      "Epoch 11/30\n",
      "113/113 [==============================] - 1s 7ms/step - loss: 0.0043 - val_loss: 0.0129\n",
      "Epoch 12/30\n",
      "113/113 [==============================] - 1s 10ms/step - loss: 0.0043 - val_loss: 0.0121\n",
      "Epoch 13/30\n",
      "113/113 [==============================] - 1s 9ms/step - loss: 0.0042 - val_loss: 0.0124\n",
      "Epoch 14/30\n",
      "113/113 [==============================] - 1s 7ms/step - loss: 0.0042 - val_loss: 0.0120\n",
      "Epoch 15/30\n",
      "113/113 [==============================] - 1s 7ms/step - loss: 0.0043 - val_loss: 0.0130\n",
      "Epoch 16/30\n",
      "113/113 [==============================] - 1s 8ms/step - loss: 0.0042 - val_loss: 0.0143\n",
      "Epoch 17/30\n",
      "113/113 [==============================] - 1s 7ms/step - loss: 0.0042 - val_loss: 0.0139\n",
      "Epoch 18/30\n",
      "113/113 [==============================] - 1s 7ms/step - loss: 0.0041 - val_loss: 0.0131\n",
      "Epoch 19/30\n",
      "113/113 [==============================] - 1s 6ms/step - loss: 0.0042 - val_loss: 0.0166\n",
      "Epoch 20/30\n",
      "113/113 [==============================] - 1s 6ms/step - loss: 0.0042 - val_loss: 0.0171\n",
      "Epoch 21/30\n",
      "113/113 [==============================] - 1s 10ms/step - loss: 0.0042 - val_loss: 0.0124\n",
      "Epoch 22/30\n",
      "113/113 [==============================] - 1s 8ms/step - loss: 0.0041 - val_loss: 0.0127\n",
      "Epoch 23/30\n",
      "113/113 [==============================] - 1s 7ms/step - loss: 0.0041 - val_loss: 0.0126\n",
      "Epoch 24/30\n",
      "113/113 [==============================] - 1s 7ms/step - loss: 0.0041 - val_loss: 0.0120\n",
      "Epoch 25/30\n",
      "113/113 [==============================] - 1s 8ms/step - loss: 0.0041 - val_loss: 0.0196\n",
      "Epoch 26/30\n",
      "113/113 [==============================] - 1s 8ms/step - loss: 0.0042 - val_loss: 0.0144\n",
      "Epoch 27/30\n",
      "113/113 [==============================] - 1s 7ms/step - loss: 0.0041 - val_loss: 0.0132\n",
      "Epoch 28/30\n",
      "113/113 [==============================] - 1s 6ms/step - loss: 0.0041 - val_loss: 0.0124\n",
      "Epoch 29/30\n",
      "113/113 [==============================] - 1s 6ms/step - loss: 0.0043 - val_loss: 0.0134\n",
      "Epoch 30/30\n",
      "113/113 [==============================] - 1s 6ms/step - loss: 0.0042 - val_loss: 0.0142\n"
     ]
    },
    {
     "data": {
      "text/plain": [
       "<keras.src.callbacks.History at 0x1830c2450>"
      ]
     },
     "execution_count": 29,
     "metadata": {},
     "output_type": "execute_result"
    }
   ],
   "source": [
    "lstm_input = Input(shape=(backcandles, 8), name='lstm_input')\n",
    "inputs = LSTM(100, name='first_layer')(lstm_input)  \n",
    "inputs = Dense(1, name='dense_layer')(inputs)\n",
    "output = Activation('linear', name='output')(inputs)\n",
    "model = Model(inputs=lstm_input, outputs=output)\n",
    "adam = optimizers.Adam()\n",
    "model.compile(optimizer=adam, loss='mse')\n",
    "model.fit(x=X_train, y=y_train, batch_size=15, epochs=30, shuffle=True, validation_split = 0.1)"
   ]
  },
  {
   "cell_type": "markdown",
   "metadata": {},
   "source": [
    "# 4. Results"
   ]
  },
  {
   "cell_type": "code",
   "execution_count": 30,
   "metadata": {},
   "outputs": [
    {
     "name": "stdout",
     "output_type": "stream",
     "text": [
      "15/15 [==============================] - 1s 3ms/step\n",
      "[0.4755009] [0.54980489]\n",
      "[0.47487184] [0.40685972]\n",
      "[0.47469383] [0.48606832]\n",
      "[0.47340283] [0.63154652]\n",
      "[0.47327372] [0.63757103]\n",
      "[0.47378397] [0.74498528]\n",
      "[0.47444478] [0.53104676]\n",
      "[0.4754942] [0.46847402]\n",
      "[0.47484764] [0.61764907]\n",
      "[0.4747399] [0.33237489]\n"
     ]
    }
   ],
   "source": [
    "y_pred = model.predict(X_test)\n",
    "#y_pred=np.where(y_pred > 0.43, 1,0)\n",
    "for i in range(10):\n",
    "    print(y_pred[i], y_test[i])"
   ]
  },
  {
   "cell_type": "code",
   "execution_count": 31,
   "metadata": {},
   "outputs": [
    {
     "data": {
      "image/png": "[encoded data removed]",
      "text/plain": [
       "<Figure size 1600x800 with 1 Axes>"
      ]
     },
     "metadata": {},
     "output_type": "display_data"
    }
   ],
   "source": [
    "plt.figure(figsize=(16,8))\n",
    "plt.plot(y_test, color = 'black', label = 'Test')\n",
    "plt.plot(y_pred, color = 'green', label = 'pred')\n",
    "plt.legend()\n",
    "plt.show()"
   ]
  },
  {
   "cell_type": "markdown",
   "metadata": {},
   "source": [
    "# 5. References\n",
    "1. https://vnexpress.net/chi-bao-rsi-la-gi-4481781.html"
   ]
  }
 ],
 "metadata": {
  "kernelspec": {
   "display_name": "Python 3",
   "language": "python",
   "name": "python3"
  },
  "language_info": {
   "codemirror_mode": {
    "name": "ipython",
    "version": 3
   },
   "file_extension": ".py",
   "mimetype": "text/x-python",
   "name": "python",
   "nbconvert_exporter": "python",
   "pygments_lexer": "ipython3",
   "version": "3.11.4"
  }
 },
 "nbformat": 4,
 "nbformat_minor": 2
}
